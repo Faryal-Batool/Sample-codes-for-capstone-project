{
  "cells": [
    {
      "cell_type": "code",
      "execution_count": null,
      "metadata": {
        "colab": {
          "base_uri": "https://localhost:8080/",
          "height": 1000
        },
        "id": "HUJPWG6EQ3OI",
        "outputId": "e72ead3d-4d7e-4830-e975-ade2f670bb7f"
      },
      "outputs": [
        {
          "output_type": "stream",
          "name": "stdout",
          "text": [
            "Model: \"sequential_1\"\n",
            "_________________________________________________________________\n",
            " Layer (type)                Output Shape              Param #   \n",
            "=================================================================\n",
            " conv2d_3 (Conv2D)           (None, 26, 1, 32)         320       \n",
            "                                                                 \n",
            " max_pooling2d_3 (MaxPooling  (None, 9, 1, 32)         0         \n",
            " 2D)                                                             \n",
            "                                                                 \n",
            " batch_normalization_3 (Batc  (None, 9, 1, 32)         128       \n",
            " hNormalization)                                                 \n",
            "                                                                 \n",
            " conv2d_4 (Conv2D)           (None, 9, 1, 32)          9248      \n",
            "                                                                 \n",
            " max_pooling2d_4 (MaxPooling  (None, 3, 1, 32)         0         \n",
            " 2D)                                                             \n",
            "                                                                 \n",
            " batch_normalization_4 (Batc  (None, 3, 1, 32)         128       \n",
            " hNormalization)                                                 \n",
            "                                                                 \n",
            " conv2d_5 (Conv2D)           (None, 3, 1, 32)          9248      \n",
            "                                                                 \n",
            " max_pooling2d_5 (MaxPooling  (None, 1, 1, 32)         0         \n",
            " 2D)                                                             \n",
            "                                                                 \n",
            " batch_normalization_5 (Batc  (None, 1, 1, 32)         128       \n",
            " hNormalization)                                                 \n",
            "                                                                 \n",
            " flatten_1 (Flatten)         (None, 32)                0         \n",
            "                                                                 \n",
            " dense_2 (Dense)             (None, 125)               4125      \n",
            "                                                                 \n",
            " dropout_1 (Dropout)         (None, 125)               0         \n",
            "                                                                 \n",
            " dense_3 (Dense)             (None, 1)                 126       \n",
            "                                                                 \n",
            "=================================================================\n",
            "Total params: 23,451\n",
            "Trainable params: 23,259\n",
            "Non-trainable params: 192\n",
            "_________________________________________________________________\n",
            "Epoch 1/150\n",
            "1203/1203 [==============================] - 25s 20ms/step - loss: 0.1805 - accuracy: 0.9265 - val_loss: 0.1046 - val_accuracy: 0.9584\n",
            "Epoch 2/150\n",
            "1203/1203 [==============================] - 25s 21ms/step - loss: 0.0910 - accuracy: 0.9663 - val_loss: 0.0748 - val_accuracy: 0.9716\n",
            "Epoch 3/150\n",
            "1203/1203 [==============================] - 26s 22ms/step - loss: 0.0722 - accuracy: 0.9733 - val_loss: 0.0646 - val_accuracy: 0.9755\n",
            "Epoch 4/150\n",
            "1203/1203 [==============================] - 25s 21ms/step - loss: 0.0621 - accuracy: 0.9772 - val_loss: 0.0576 - val_accuracy: 0.9778\n",
            "Epoch 5/150\n",
            "1203/1203 [==============================] - 25s 21ms/step - loss: 0.0562 - accuracy: 0.9793 - val_loss: 0.0529 - val_accuracy: 0.9801\n",
            "Epoch 6/150\n",
            "1203/1203 [==============================] - 27s 22ms/step - loss: 0.0512 - accuracy: 0.9811 - val_loss: 0.0514 - val_accuracy: 0.9804\n",
            "Epoch 7/150\n",
            "1203/1203 [==============================] - 25s 21ms/step - loss: 0.0478 - accuracy: 0.9824 - val_loss: 0.0495 - val_accuracy: 0.9801\n",
            "Epoch 8/150\n",
            "1203/1203 [==============================] - 27s 22ms/step - loss: 0.0446 - accuracy: 0.9836 - val_loss: 0.0453 - val_accuracy: 0.9829\n",
            "Epoch 9/150\n",
            "1203/1203 [==============================] - 25s 21ms/step - loss: 0.0428 - accuracy: 0.9843 - val_loss: 0.0461 - val_accuracy: 0.9820\n",
            "Epoch 10/150\n",
            "1203/1203 [==============================] - 25s 21ms/step - loss: 0.0408 - accuracy: 0.9849 - val_loss: 0.0499 - val_accuracy: 0.9813\n",
            "Epoch 11/150\n",
            "1203/1203 [==============================] - 26s 21ms/step - loss: 0.0395 - accuracy: 0.9856 - val_loss: 0.0430 - val_accuracy: 0.9835\n",
            "Epoch 12/150\n",
            "1203/1203 [==============================] - 26s 21ms/step - loss: 0.0383 - accuracy: 0.9860 - val_loss: 0.0418 - val_accuracy: 0.9846\n",
            "Epoch 13/150\n",
            "1203/1203 [==============================] - 25s 21ms/step - loss: 0.0367 - accuracy: 0.9865 - val_loss: 0.0408 - val_accuracy: 0.9844\n",
            "Epoch 14/150\n",
            "1203/1203 [==============================] - 25s 21ms/step - loss: 0.0361 - accuracy: 0.9868 - val_loss: 0.0506 - val_accuracy: 0.9811\n",
            "Epoch 15/150\n",
            "1203/1203 [==============================] - 25s 21ms/step - loss: 0.0348 - accuracy: 0.9870 - val_loss: 0.0419 - val_accuracy: 0.9833\n",
            "Epoch 16/150\n",
            "1203/1203 [==============================] - 25s 21ms/step - loss: 0.0337 - accuracy: 0.9876 - val_loss: 0.0434 - val_accuracy: 0.9842\n",
            "Epoch 17/150\n",
            "1203/1203 [==============================] - 24s 20ms/step - loss: 0.0331 - accuracy: 0.9877 - val_loss: 0.0404 - val_accuracy: 0.9849\n",
            "Epoch 18/150\n",
            "1203/1203 [==============================] - 25s 20ms/step - loss: 0.0320 - accuracy: 0.9884 - val_loss: 0.0390 - val_accuracy: 0.9843\n",
            "Epoch 19/150\n",
            "1203/1203 [==============================] - 25s 21ms/step - loss: 0.0313 - accuracy: 0.9883 - val_loss: 0.0377 - val_accuracy: 0.9857\n",
            "Epoch 20/150\n",
            "1203/1203 [==============================] - 25s 21ms/step - loss: 0.0311 - accuracy: 0.9886 - val_loss: 0.0369 - val_accuracy: 0.9861\n",
            "Epoch 21/150\n",
            "1203/1203 [==============================] - 25s 21ms/step - loss: 0.0303 - accuracy: 0.9889 - val_loss: 0.0373 - val_accuracy: 0.9861\n",
            "Epoch 22/150\n",
            "1203/1203 [==============================] - 25s 21ms/step - loss: 0.0291 - accuracy: 0.9893 - val_loss: 0.0367 - val_accuracy: 0.9863\n",
            "Epoch 23/150\n",
            "1203/1203 [==============================] - 25s 21ms/step - loss: 0.0293 - accuracy: 0.9893 - val_loss: 0.0397 - val_accuracy: 0.9850\n",
            "Epoch 24/150\n",
            "1203/1203 [==============================] - 24s 20ms/step - loss: 0.0283 - accuracy: 0.9898 - val_loss: 0.0346 - val_accuracy: 0.9869\n",
            "Epoch 25/150\n",
            "1203/1203 [==============================] - 25s 20ms/step - loss: 0.0279 - accuracy: 0.9897 - val_loss: 0.0406 - val_accuracy: 0.9849\n",
            "Epoch 26/150\n",
            "1203/1203 [==============================] - 25s 21ms/step - loss: 0.0280 - accuracy: 0.9896 - val_loss: 0.0349 - val_accuracy: 0.9865\n",
            "Epoch 27/150\n",
            "1203/1203 [==============================] - 25s 21ms/step - loss: 0.0270 - accuracy: 0.9901 - val_loss: 0.0411 - val_accuracy: 0.9843\n",
            "Epoch 28/150\n",
            "1203/1203 [==============================] - 25s 21ms/step - loss: 0.0266 - accuracy: 0.9903 - val_loss: 0.0364 - val_accuracy: 0.9870\n",
            "Epoch 29/150\n",
            "1203/1203 [==============================] - 25s 20ms/step - loss: 0.0266 - accuracy: 0.9901 - val_loss: 0.0356 - val_accuracy: 0.9869\n",
            "Epoch 30/150\n",
            "1203/1203 [==============================] - 25s 20ms/step - loss: 0.0266 - accuracy: 0.9903 - val_loss: 0.0392 - val_accuracy: 0.9860\n",
            "Epoch 31/150\n",
            "1203/1203 [==============================] - 25s 21ms/step - loss: 0.0256 - accuracy: 0.9906 - val_loss: 0.0358 - val_accuracy: 0.9865\n",
            "Epoch 32/150\n",
            "1203/1203 [==============================] - 25s 21ms/step - loss: 0.0253 - accuracy: 0.9906 - val_loss: 0.0367 - val_accuracy: 0.9867\n",
            "Epoch 33/150\n",
            "1203/1203 [==============================] - 25s 21ms/step - loss: 0.0252 - accuracy: 0.9907 - val_loss: 0.0356 - val_accuracy: 0.9875\n",
            "Epoch 34/150\n",
            "1203/1203 [==============================] - 25s 21ms/step - loss: 0.0247 - accuracy: 0.9908 - val_loss: 0.0340 - val_accuracy: 0.9877\n",
            "Epoch 35/150\n",
            "1203/1203 [==============================] - 25s 21ms/step - loss: 0.0250 - accuracy: 0.9907 - val_loss: 0.0343 - val_accuracy: 0.9875\n",
            "Epoch 36/150\n",
            "1203/1203 [==============================] - 25s 21ms/step - loss: 0.0244 - accuracy: 0.9910 - val_loss: 0.0347 - val_accuracy: 0.9878\n",
            "Epoch 37/150\n",
            "1203/1203 [==============================] - 25s 21ms/step - loss: 0.0241 - accuracy: 0.9911 - val_loss: 0.0400 - val_accuracy: 0.9854\n",
            "Epoch 38/150\n",
            "1203/1203 [==============================] - 25s 21ms/step - loss: 0.0241 - accuracy: 0.9914 - val_loss: 0.0356 - val_accuracy: 0.9873\n",
            "Epoch 39/150\n",
            "1203/1203 [==============================] - 25s 21ms/step - loss: 0.0236 - accuracy: 0.9913 - val_loss: 0.0342 - val_accuracy: 0.9873\n",
            "Epoch 40/150\n",
            "1203/1203 [==============================] - 25s 21ms/step - loss: 0.0233 - accuracy: 0.9915 - val_loss: 0.0339 - val_accuracy: 0.9879\n",
            "Epoch 41/150\n",
            "1203/1203 [==============================] - 25s 21ms/step - loss: 0.0232 - accuracy: 0.9914 - val_loss: 0.0364 - val_accuracy: 0.9872\n",
            "Epoch 42/150\n",
            "1203/1203 [==============================] - 25s 21ms/step - loss: 0.0232 - accuracy: 0.9914 - val_loss: 0.0342 - val_accuracy: 0.9880\n",
            "Epoch 43/150\n",
            "1203/1203 [==============================] - 25s 21ms/step - loss: 0.0229 - accuracy: 0.9917 - val_loss: 0.0345 - val_accuracy: 0.9874\n",
            "Epoch 44/150\n",
            "1203/1203 [==============================] - 25s 21ms/step - loss: 0.0227 - accuracy: 0.9916 - val_loss: 0.0351 - val_accuracy: 0.9868\n",
            "Epoch 45/150\n",
            "1203/1203 [==============================] - 25s 21ms/step - loss: 0.0223 - accuracy: 0.9918 - val_loss: 0.0329 - val_accuracy: 0.9882\n",
            "Epoch 46/150\n",
            "1203/1203 [==============================] - 25s 21ms/step - loss: 0.0222 - accuracy: 0.9918 - val_loss: 0.0333 - val_accuracy: 0.9886\n",
            "Epoch 47/150\n",
            "1203/1203 [==============================] - 26s 22ms/step - loss: 0.0221 - accuracy: 0.9918 - val_loss: 0.0320 - val_accuracy: 0.9877\n",
            "Epoch 48/150\n",
            "1203/1203 [==============================] - 26s 21ms/step - loss: 0.0217 - accuracy: 0.9920 - val_loss: 0.0357 - val_accuracy: 0.9875\n",
            "Epoch 49/150\n",
            "1203/1203 [==============================] - 26s 22ms/step - loss: 0.0216 - accuracy: 0.9918 - val_loss: 0.0353 - val_accuracy: 0.9874\n",
            "Epoch 50/150\n",
            "1203/1203 [==============================] - 26s 22ms/step - loss: 0.0216 - accuracy: 0.9919 - val_loss: 0.0342 - val_accuracy: 0.9878\n",
            "Epoch 51/150\n",
            "1203/1203 [==============================] - 26s 22ms/step - loss: 0.0213 - accuracy: 0.9921 - val_loss: 0.0329 - val_accuracy: 0.9887\n",
            "Epoch 52/150\n",
            "1203/1203 [==============================] - 26s 22ms/step - loss: 0.0211 - accuracy: 0.9922 - val_loss: 0.0358 - val_accuracy: 0.9882\n",
            "Epoch 53/150\n",
            "1203/1203 [==============================] - 25s 21ms/step - loss: 0.0208 - accuracy: 0.9924 - val_loss: 0.0345 - val_accuracy: 0.9876\n",
            "Epoch 54/150\n",
            "1203/1203 [==============================] - 26s 21ms/step - loss: 0.0209 - accuracy: 0.9923 - val_loss: 0.0322 - val_accuracy: 0.9887\n",
            "Epoch 55/150\n",
            "1203/1203 [==============================] - 26s 21ms/step - loss: 0.0207 - accuracy: 0.9922 - val_loss: 0.0368 - val_accuracy: 0.9878\n",
            "Epoch 56/150\n",
            "1203/1203 [==============================] - 26s 21ms/step - loss: 0.0208 - accuracy: 0.9922 - val_loss: 0.0323 - val_accuracy: 0.9891\n",
            "Epoch 57/150\n",
            "1203/1203 [==============================] - 26s 21ms/step - loss: 0.0209 - accuracy: 0.9923 - val_loss: 0.0388 - val_accuracy: 0.9874\n",
            "Epoch 58/150\n",
            "1203/1203 [==============================] - 26s 21ms/step - loss: 0.0206 - accuracy: 0.9923 - val_loss: 0.0332 - val_accuracy: 0.9886\n",
            "Epoch 59/150\n",
            "1203/1203 [==============================] - 26s 21ms/step - loss: 0.0202 - accuracy: 0.9926 - val_loss: 0.0353 - val_accuracy: 0.9878\n",
            "Epoch 60/150\n",
            "1203/1203 [==============================] - 26s 21ms/step - loss: 0.0199 - accuracy: 0.9926 - val_loss: 0.0360 - val_accuracy: 0.9888\n",
            "Epoch 61/150\n",
            "1203/1203 [==============================] - 25s 21ms/step - loss: 0.0199 - accuracy: 0.9929 - val_loss: 0.0323 - val_accuracy: 0.9894\n",
            "Epoch 62/150\n",
            "1203/1203 [==============================] - 26s 21ms/step - loss: 0.0197 - accuracy: 0.9926 - val_loss: 0.0328 - val_accuracy: 0.9887\n",
            "Epoch 63/150\n",
            "1203/1203 [==============================] - 26s 22ms/step - loss: 0.0198 - accuracy: 0.9926 - val_loss: 0.0326 - val_accuracy: 0.9889\n",
            "Epoch 64/150\n",
            "1203/1203 [==============================] - 26s 21ms/step - loss: 0.0197 - accuracy: 0.9927 - val_loss: 0.0339 - val_accuracy: 0.9886\n",
            "Epoch 65/150\n",
            "1203/1203 [==============================] - 26s 21ms/step - loss: 0.0197 - accuracy: 0.9927 - val_loss: 0.0356 - val_accuracy: 0.9878\n",
            "Epoch 66/150\n",
            "1203/1203 [==============================] - 26s 21ms/step - loss: 0.0194 - accuracy: 0.9929 - val_loss: 0.0318 - val_accuracy: 0.9893\n",
            "Epoch 67/150\n",
            "1203/1203 [==============================] - 26s 22ms/step - loss: 0.0194 - accuracy: 0.9928 - val_loss: 0.0308 - val_accuracy: 0.9898\n",
            "Epoch 68/150\n",
            "1203/1203 [==============================] - 26s 22ms/step - loss: 0.0193 - accuracy: 0.9930 - val_loss: 0.0322 - val_accuracy: 0.9887\n",
            "Epoch 69/150\n",
            "1203/1203 [==============================] - 25s 21ms/step - loss: 0.0191 - accuracy: 0.9929 - val_loss: 0.0302 - val_accuracy: 0.9889\n",
            "Epoch 70/150\n",
            "1203/1203 [==============================] - 26s 21ms/step - loss: 0.0189 - accuracy: 0.9930 - val_loss: 0.0315 - val_accuracy: 0.9894\n",
            "Epoch 71/150\n",
            "1203/1203 [==============================] - 25s 21ms/step - loss: 0.0185 - accuracy: 0.9931 - val_loss: 0.0323 - val_accuracy: 0.9887\n",
            "Epoch 72/150\n",
            "1203/1203 [==============================] - 25s 21ms/step - loss: 0.0188 - accuracy: 0.9931 - val_loss: 0.0350 - val_accuracy: 0.9882\n",
            "Epoch 73/150\n",
            "1203/1203 [==============================] - 27s 23ms/step - loss: 0.0186 - accuracy: 0.9930 - val_loss: 0.0377 - val_accuracy: 0.9880\n",
            "Epoch 74/150\n",
            "1203/1203 [==============================] - 26s 22ms/step - loss: 0.0189 - accuracy: 0.9930 - val_loss: 0.0325 - val_accuracy: 0.9892\n",
            "Epoch 75/150\n",
            "1203/1203 [==============================] - 26s 21ms/step - loss: 0.0183 - accuracy: 0.9932 - val_loss: 0.0304 - val_accuracy: 0.9901\n",
            "Epoch 76/150\n",
            "1203/1203 [==============================] - 25s 21ms/step - loss: 0.0189 - accuracy: 0.9932 - val_loss: 0.0318 - val_accuracy: 0.9889\n",
            "Epoch 77/150\n",
            "1203/1203 [==============================] - 26s 21ms/step - loss: 0.0181 - accuracy: 0.9934 - val_loss: 0.0338 - val_accuracy: 0.9885\n",
            "Epoch 78/150\n",
            "1203/1203 [==============================] - 26s 21ms/step - loss: 0.0181 - accuracy: 0.9933 - val_loss: 0.0313 - val_accuracy: 0.9891\n",
            "Epoch 79/150\n",
            "1203/1203 [==============================] - 27s 22ms/step - loss: 0.0183 - accuracy: 0.9931 - val_loss: 0.0347 - val_accuracy: 0.9882\n",
            "Epoch 80/150\n",
            "1203/1203 [==============================] - 27s 22ms/step - loss: 0.0180 - accuracy: 0.9933 - val_loss: 0.0375 - val_accuracy: 0.9883\n",
            "Epoch 81/150\n",
            "1203/1203 [==============================] - 25s 21ms/step - loss: 0.0185 - accuracy: 0.9931 - val_loss: 0.0342 - val_accuracy: 0.9881\n",
            "Epoch 82/150\n",
            "1203/1203 [==============================] - 26s 21ms/step - loss: 0.0178 - accuracy: 0.9935 - val_loss: 0.0366 - val_accuracy: 0.9882\n",
            "Epoch 83/150\n",
            "1203/1203 [==============================] - 26s 21ms/step - loss: 0.0181 - accuracy: 0.9932 - val_loss: 0.0328 - val_accuracy: 0.9890\n",
            "Epoch 84/150\n",
            "1203/1203 [==============================] - 26s 21ms/step - loss: 0.0178 - accuracy: 0.9933 - val_loss: 0.0325 - val_accuracy: 0.9890\n",
            "Epoch 85/150\n",
            "1203/1203 [==============================] - 26s 21ms/step - loss: 0.0173 - accuracy: 0.9937 - val_loss: 0.0351 - val_accuracy: 0.9882\n",
            "Epoch 86/150\n",
            "1203/1203 [==============================] - 26s 21ms/step - loss: 0.0175 - accuracy: 0.9934 - val_loss: 0.0312 - val_accuracy: 0.9901\n",
            "Epoch 87/150\n",
            "1203/1203 [==============================] - 26s 21ms/step - loss: 0.0176 - accuracy: 0.9935 - val_loss: 0.0345 - val_accuracy: 0.9888\n",
            "Epoch 88/150\n",
            "1203/1203 [==============================] - 26s 21ms/step - loss: 0.0172 - accuracy: 0.9936 - val_loss: 0.0302 - val_accuracy: 0.9897\n",
            "Epoch 89/150\n",
            "1203/1203 [==============================] - 25s 21ms/step - loss: 0.0174 - accuracy: 0.9935 - val_loss: 0.0342 - val_accuracy: 0.9887\n",
            "Epoch 90/150\n",
            "1203/1203 [==============================] - 25s 21ms/step - loss: 0.0175 - accuracy: 0.9936 - val_loss: 0.0334 - val_accuracy: 0.9892\n",
            "Epoch 91/150\n",
            "1203/1203 [==============================] - 26s 21ms/step - loss: 0.0171 - accuracy: 0.9936 - val_loss: 0.0314 - val_accuracy: 0.9899\n",
            "Epoch 92/150\n",
            "1203/1203 [==============================] - 25s 21ms/step - loss: 0.0166 - accuracy: 0.9939 - val_loss: 0.0330 - val_accuracy: 0.9888\n",
            "Epoch 93/150\n",
            "1203/1203 [==============================] - 25s 21ms/step - loss: 0.0170 - accuracy: 0.9936 - val_loss: 0.0328 - val_accuracy: 0.9892\n",
            "Epoch 94/150\n",
            "1203/1203 [==============================] - 25s 21ms/step - loss: 0.0167 - accuracy: 0.9936 - val_loss: 0.0320 - val_accuracy: 0.9895\n",
            "Epoch 95/150\n",
            "1203/1203 [==============================] - 25s 21ms/step - loss: 0.0170 - accuracy: 0.9937 - val_loss: 0.0308 - val_accuracy: 0.9898\n",
            "Epoch 96/150\n",
            "1203/1203 [==============================] - 25s 21ms/step - loss: 0.0169 - accuracy: 0.9937 - val_loss: 0.0350 - val_accuracy: 0.9887\n",
            "Epoch 97/150\n",
            "1203/1203 [==============================] - 25s 21ms/step - loss: 0.0164 - accuracy: 0.9938 - val_loss: 0.0345 - val_accuracy: 0.9899\n",
            "Epoch 98/150\n",
            "1203/1203 [==============================] - 26s 22ms/step - loss: 0.0168 - accuracy: 0.9938 - val_loss: 0.0334 - val_accuracy: 0.9891\n",
            "Epoch 99/150\n",
            "1203/1203 [==============================] - 26s 21ms/step - loss: 0.0168 - accuracy: 0.9938 - val_loss: 0.0328 - val_accuracy: 0.9899\n",
            "Epoch 100/150\n",
            "1203/1203 [==============================] - 26s 21ms/step - loss: 0.0164 - accuracy: 0.9938 - val_loss: 0.0315 - val_accuracy: 0.9897\n",
            "Epoch 101/150\n",
            "1203/1203 [==============================] - 26s 22ms/step - loss: 0.0168 - accuracy: 0.9937 - val_loss: 0.0320 - val_accuracy: 0.9894\n",
            "Epoch 102/150\n",
            "1203/1203 [==============================] - 26s 21ms/step - loss: 0.0160 - accuracy: 0.9942 - val_loss: 0.0323 - val_accuracy: 0.9905\n",
            "Epoch 103/150\n",
            "1203/1203 [==============================] - 26s 21ms/step - loss: 0.0162 - accuracy: 0.9940 - val_loss: 0.0333 - val_accuracy: 0.9894\n",
            "Epoch 104/150\n",
            "1203/1203 [==============================] - 25s 21ms/step - loss: 0.0168 - accuracy: 0.9938 - val_loss: 0.0328 - val_accuracy: 0.9892\n",
            "Epoch 105/150\n",
            "1203/1203 [==============================] - 25s 21ms/step - loss: 0.0161 - accuracy: 0.9939 - val_loss: 0.0369 - val_accuracy: 0.9886\n",
            "Epoch 106/150\n",
            "1203/1203 [==============================] - 25s 21ms/step - loss: 0.0164 - accuracy: 0.9938 - val_loss: 0.0330 - val_accuracy: 0.9896\n",
            "Epoch 107/150\n",
            "1203/1203 [==============================] - 25s 21ms/step - loss: 0.0158 - accuracy: 0.9940 - val_loss: 0.0410 - val_accuracy: 0.9889\n",
            "Epoch 108/150\n",
            "1203/1203 [==============================] - 25s 21ms/step - loss: 0.0161 - accuracy: 0.9940 - val_loss: 0.0341 - val_accuracy: 0.9894\n",
            "Epoch 109/150\n",
            "1203/1203 [==============================] - 25s 21ms/step - loss: 0.0158 - accuracy: 0.9941 - val_loss: 0.0306 - val_accuracy: 0.9901\n",
            "Epoch 110/150\n",
            "1203/1203 [==============================] - 25s 21ms/step - loss: 0.0159 - accuracy: 0.9942 - val_loss: 0.0410 - val_accuracy: 0.9867\n",
            "Epoch 111/150\n",
            "1203/1203 [==============================] - 26s 21ms/step - loss: 0.0159 - accuracy: 0.9942 - val_loss: 0.0351 - val_accuracy: 0.9894\n",
            "Epoch 112/150\n",
            "1203/1203 [==============================] - 26s 21ms/step - loss: 0.0157 - accuracy: 0.9940 - val_loss: 0.0356 - val_accuracy: 0.9889\n",
            "Epoch 113/150\n",
            "1203/1203 [==============================] - 26s 22ms/step - loss: 0.0159 - accuracy: 0.9940 - val_loss: 0.0348 - val_accuracy: 0.9887\n",
            "Epoch 114/150\n",
            "1203/1203 [==============================] - 25s 21ms/step - loss: 0.0153 - accuracy: 0.9942 - val_loss: 0.0314 - val_accuracy: 0.9898\n",
            "Epoch 115/150\n",
            "1203/1203 [==============================] - 25s 21ms/step - loss: 0.0157 - accuracy: 0.9943 - val_loss: 0.0383 - val_accuracy: 0.9886\n",
            "Epoch 116/150\n",
            "1203/1203 [==============================] - 25s 21ms/step - loss: 0.0153 - accuracy: 0.9943 - val_loss: 0.0314 - val_accuracy: 0.9899\n",
            "Epoch 117/150\n",
            "1203/1203 [==============================] - 26s 21ms/step - loss: 0.0153 - accuracy: 0.9943 - val_loss: 0.0371 - val_accuracy: 0.9892\n",
            "Epoch 118/150\n",
            "1203/1203 [==============================] - 28s 23ms/step - loss: 0.0156 - accuracy: 0.9941 - val_loss: 0.0386 - val_accuracy: 0.9889\n",
            "Epoch 119/150\n",
            "1203/1203 [==============================] - 26s 21ms/step - loss: 0.0155 - accuracy: 0.9941 - val_loss: 0.0340 - val_accuracy: 0.9895\n",
            "Epoch 120/150\n",
            "1203/1203 [==============================] - 27s 22ms/step - loss: 0.0155 - accuracy: 0.9943 - val_loss: 0.0331 - val_accuracy: 0.9899\n",
            "Epoch 121/150\n",
            "1203/1203 [==============================] - 27s 22ms/step - loss: 0.0152 - accuracy: 0.9944 - val_loss: 0.0329 - val_accuracy: 0.9897\n",
            "Epoch 122/150\n",
            "1203/1203 [==============================] - 27s 22ms/step - loss: 0.0154 - accuracy: 0.9941 - val_loss: 0.0350 - val_accuracy: 0.9897\n",
            "Epoch 123/150\n",
            "1203/1203 [==============================] - 26s 22ms/step - loss: 0.0152 - accuracy: 0.9944 - val_loss: 0.0311 - val_accuracy: 0.9902\n",
            "Epoch 124/150\n",
            "1203/1203 [==============================] - 26s 22ms/step - loss: 0.0148 - accuracy: 0.9945 - val_loss: 0.0349 - val_accuracy: 0.9896\n",
            "Epoch 125/150\n",
            "1203/1203 [==============================] - 26s 22ms/step - loss: 0.0153 - accuracy: 0.9943 - val_loss: 0.0349 - val_accuracy: 0.9897\n",
            "Epoch 126/150\n",
            "1203/1203 [==============================] - 26s 22ms/step - loss: 0.0149 - accuracy: 0.9944 - val_loss: 0.0339 - val_accuracy: 0.9900\n",
            "Epoch 127/150\n",
            "1203/1203 [==============================] - 26s 21ms/step - loss: 0.0153 - accuracy: 0.9943 - val_loss: 0.0365 - val_accuracy: 0.9884\n",
            "Epoch 128/150\n",
            "1203/1203 [==============================] - 25s 21ms/step - loss: 0.0150 - accuracy: 0.9942 - val_loss: 0.0296 - val_accuracy: 0.9909\n",
            "Epoch 129/150\n",
            "1203/1203 [==============================] - 26s 21ms/step - loss: 0.0151 - accuracy: 0.9943 - val_loss: 0.0341 - val_accuracy: 0.9897\n",
            "Epoch 130/150\n",
            "1203/1203 [==============================] - 26s 21ms/step - loss: 0.0150 - accuracy: 0.9945 - val_loss: 0.0314 - val_accuracy: 0.9904\n",
            "Epoch 131/150\n",
            "1203/1203 [==============================] - 26s 21ms/step - loss: 0.0147 - accuracy: 0.9945 - val_loss: 0.0354 - val_accuracy: 0.9895\n",
            "Epoch 132/150\n",
            "1203/1203 [==============================] - 25s 21ms/step - loss: 0.0145 - accuracy: 0.9946 - val_loss: 0.0359 - val_accuracy: 0.9891\n",
            "Epoch 133/150\n",
            "1203/1203 [==============================] - 26s 21ms/step - loss: 0.0147 - accuracy: 0.9946 - val_loss: 0.0371 - val_accuracy: 0.9894\n",
            "Epoch 134/150\n",
            "1203/1203 [==============================] - 26s 22ms/step - loss: 0.0151 - accuracy: 0.9946 - val_loss: 0.0316 - val_accuracy: 0.9902\n",
            "Epoch 135/150\n",
            "1203/1203 [==============================] - 26s 22ms/step - loss: 0.0148 - accuracy: 0.9945 - val_loss: 0.0343 - val_accuracy: 0.9896\n",
            "Epoch 136/150\n",
            "1203/1203 [==============================] - 26s 22ms/step - loss: 0.0151 - accuracy: 0.9943 - val_loss: 0.0340 - val_accuracy: 0.9900\n",
            "Epoch 137/150\n",
            "1203/1203 [==============================] - 26s 21ms/step - loss: 0.0146 - accuracy: 0.9946 - val_loss: 0.0330 - val_accuracy: 0.9899\n",
            "Epoch 138/150\n",
            "1203/1203 [==============================] - 26s 21ms/step - loss: 0.0143 - accuracy: 0.9947 - val_loss: 0.0381 - val_accuracy: 0.9882\n",
            "Epoch 139/150\n",
            "1203/1203 [==============================] - 26s 21ms/step - loss: 0.0145 - accuracy: 0.9947 - val_loss: 0.0356 - val_accuracy: 0.9890\n",
            "Epoch 140/150\n",
            "1203/1203 [==============================] - 26s 21ms/step - loss: 0.0143 - accuracy: 0.9948 - val_loss: 0.0363 - val_accuracy: 0.9892\n",
            "Epoch 141/150\n",
            "1203/1203 [==============================] - 26s 22ms/step - loss: 0.0144 - accuracy: 0.9946 - val_loss: 0.0333 - val_accuracy: 0.9900\n",
            "Epoch 142/150\n",
            "1203/1203 [==============================] - 27s 22ms/step - loss: 0.0144 - accuracy: 0.9946 - val_loss: 0.0338 - val_accuracy: 0.9896\n",
            "Epoch 143/150\n",
            "1203/1203 [==============================] - 26s 22ms/step - loss: 0.0144 - accuracy: 0.9946 - val_loss: 0.0315 - val_accuracy: 0.9904\n",
            "Epoch 144/150\n",
            "1203/1203 [==============================] - 26s 21ms/step - loss: 0.0147 - accuracy: 0.9945 - val_loss: 0.0368 - val_accuracy: 0.9891\n",
            "Epoch 145/150\n",
            "1203/1203 [==============================] - 26s 22ms/step - loss: 0.0140 - accuracy: 0.9946 - val_loss: 0.0392 - val_accuracy: 0.9892\n",
            "Epoch 146/150\n",
            "1203/1203 [==============================] - 26s 21ms/step - loss: 0.0140 - accuracy: 0.9948 - val_loss: 0.0386 - val_accuracy: 0.9890\n",
            "Epoch 147/150\n",
            "1203/1203 [==============================] - 26s 22ms/step - loss: 0.0145 - accuracy: 0.9946 - val_loss: 0.0358 - val_accuracy: 0.9896\n",
            "Epoch 148/150\n",
            "1203/1203 [==============================] - 27s 22ms/step - loss: 0.0144 - accuracy: 0.9947 - val_loss: 0.0332 - val_accuracy: 0.9900\n",
            "Epoch 149/150\n",
            "1203/1203 [==============================] - 27s 22ms/step - loss: 0.0139 - accuracy: 0.9948 - val_loss: 0.0353 - val_accuracy: 0.9894\n",
            "Epoch 150/150\n",
            "1203/1203 [==============================] - 26s 22ms/step - loss: 0.0137 - accuracy: 0.9949 - val_loss: 0.0369 - val_accuracy: 0.9894\n",
            "INFO:tensorflow:Assets written to: my_model2/assets\n",
            "Model saved to disk.\n"
          ]
        },
        {
          "output_type": "stream",
          "name": "stderr",
          "text": [
            "/usr/local/lib/python3.7/dist-packages/ipykernel_launcher.py:35: MatplotlibDeprecationWarning: Unrecognized location 'upper right '. Falling back on 'best'; valid locations are\n",
            "\tbest\n",
            "\tupper right\n",
            "\tupper left\n",
            "\tlower left\n",
            "\tlower right\n",
            "\tright\n",
            "\tcenter left\n",
            "\tcenter right\n",
            "\tlower center\n",
            "\tupper center\n",
            "\tcenter\n",
            "This will raise an exception in 3.3.\n"
          ]
        },
        {
          "output_type": "display_data",
          "data": {
            "image/png": "[encoded data removed]",
            "text/plain": [
              "<Figure size 576x288 with 1 Axes>"
            ]
          },
          "metadata": {}
        },
        {
          "output_type": "display_data",
          "data": {
            "image/png": "[encoded data removed]",
            "text/plain": [
              "<Figure size 576x288 with 1 Axes>"
            ]
          },
          "metadata": {}
        },
        {
          "output_type": "stream",
          "name": "stdout",
          "text": [
            "4582/4582 - 9s - loss: 0.0409 - accuracy: 0.9888 - 9s/epoch - 2ms/step\n",
            "\n",
            "Test accuracy: 0.9887927770614624\n",
            "Target: 1, Predicted label: [0]\n"
          ]
        }
      ],
      "source": [
        "import pandas as pd\n",
        "import numpy as np\n",
        "from sklearn.model_selection import train_test_split\n",
        "import tensorflow as tf\n",
        "import tensorflow.keras as keras\n",
        "import matplotlib.pyplot as plt\n",
        "import seaborn as sns\n",
        "\n",
        "DATA_PATH = \"/content/drive/MyDrive/CNN Full database.csv\"\n",
        "\n",
        "\n",
        "def load_data(data_path):\n",
        "    \"\"\"Loads training dataset from json file.\n",
        "        :param data_path (str): Path to json file containing data\n",
        "        :return X (ndarray): Inputs\n",
        "        :return y (ndarray): Targets\n",
        "    \"\"\"\n",
        "\n",
        "    data = pd.read_csv(DATA_PATH)\n",
        "\n",
        "    X=np.array(data.iloc[:,:-1]).astype('float32')\n",
        "\n",
        "    y=np.array(data.iloc[:,-1])\n",
        "    return X, y\n",
        "\n",
        "\n",
        "def plot_loss(history):\n",
        "    plt.style.use(\"ggplot\")\n",
        "    plt.figure(figsize=(8, 4))\n",
        "    plt.plot(history.history['loss'])\n",
        "    plt.plot(history.history['val_loss'])\n",
        "    plt.title(\"Model's training loss\")\n",
        "    plt.xlabel(\"Epoch #\")\n",
        "    plt.ylabel(\"Loss\")\n",
        "    plt.legend(['Train', 'Test'], loc='upper right ')\n",
        "    plt.show()\n",
        "\n",
        "\n",
        "def plot_accuracy(history):\n",
        "    plt.style.use(\"ggplot\")\n",
        "    plt.figure(figsize=(8, 4))\n",
        "    plt.plot(history.history['accuracy'])\n",
        "    plt.plot(history.history['val_accuracy'])\n",
        "    plt.title(\"Model's training accuracy\")\n",
        "    plt.xlabel(\"Epoch #\")\n",
        "    plt.ylabel(\"Accuracy\")\n",
        "    plt.legend(['Train', 'Test'], loc='lower right')\n",
        "    plt.show()\n",
        "\n",
        "\n",
        "def prepare_datasets(test_size, validation_size):\n",
        "    \"\"\"Loads data and splits it into train, validation and test sets.\n",
        "    :param test_size (float): Value in [0, 1] indicating percentage of data set to allocate to test split\n",
        "    :param validation_size (float): Value in [0, 1] indicating percentage of train set to allocate to validation split\n",
        "    :return X_train (ndarray): Input training set\n",
        "    :return X_validation (ndarray): Input validation set\n",
        "    :return X_test (ndarray): Input test set\n",
        "    :return y_train (ndarray): Target training set\n",
        "    :return y_validation (ndarray): Target validation set\n",
        "    :return y_test (ndarray): Target test set\n",
        "    \"\"\"\n",
        "\n",
        "    # load data\n",
        "    X, y = load_data(DATA_PATH)\n",
        "\n",
        "    # create train, validation and test split\n",
        "    X_train, X_test, y_train, y_test = train_test_split(X, y, test_size=test_size)\n",
        "    X_train, X_validation, y_train, y_validation = train_test_split(X_train, y_train, test_size=validation_size)\n",
        "\n",
        "    # add an axis to input sets\n",
        "    X_train = X_train[..., np.newaxis]\n",
        "    X_validation = X_validation[..., np.newaxis]\n",
        "    X_test = X_test[..., np.newaxis]\n",
        "\n",
        "    return X_train, X_validation, X_test, y_train, y_validation, y_test\n",
        "\n",
        "\n",
        "def build_model(input_shape):\n",
        "    \"\"\"Generates CNN model\n",
        "    :param input_shape (tuple): Shape of input set\n",
        "    :return model: CNN model\n",
        "    \"\"\"\n",
        "\n",
        "    # build network topology\n",
        "    model = keras.Sequential()\n",
        "\n",
        "    # 1st conv layer\n",
        "    model.add(keras.layers.Conv2D(32,(3, 3),activation='relu',kernel_initializer='he_uniform',input_shape=input_shape,padding='same'))\n",
        "    model.add(keras.layers.MaxPooling2D((3, 3), strides=(3, 3), padding='same'))\n",
        "    model.add(keras.layers.BatchNormalization())\n",
        "\n",
        "    # 2nd conv layer\n",
        "    model.add(keras.layers.Conv2D(32, (3, 3),activation='relu',kernel_initializer='he_uniform',padding='same'))\n",
        "    model.add(keras.layers.MaxPooling2D((3, 3), strides=(3, 3), padding='same'))\n",
        "    model.add(keras.layers.BatchNormalization())\n",
        "\n",
        "    # 3rd conv layer\n",
        "    model.add(keras.layers.Conv2D(32, (3, 3),activation='relu',kernel_initializer='he_uniform',padding='same'))\n",
        "    model.add(keras.layers.MaxPooling2D((3, 3), strides=(3, 3), padding='same'))\n",
        "    model.add(keras.layers.BatchNormalization())\n",
        "\n",
        "    # flatten output and feed it into dense layer\n",
        "    model.add(keras.layers.Flatten())\n",
        "    model.add(keras.layers.Dense(125, activation='relu',kernel_initializer='he_uniform'))\n",
        "    #model.add(keras.layers.Dropout(0.45))\n",
        "\n",
        "    # output layer\n",
        "    model.add(keras.layers.Dense(1, activation='sigmoid'))\n",
        "\n",
        "    return model\n",
        "\n",
        "\n",
        "def predict(model, X, y):\n",
        "    \"\"\"Predict a single sample using the trained model\n",
        "    :param model: Trained classifier\n",
        "    :param X: Input data\n",
        "    :param y (int): Target\n",
        "    \"\"\"\n",
        "\n",
        "    # add a dimension to input data for sample - model.predict() expects a 4d array in this case\n",
        "    X = X[np.newaxis, ...] # array shape (1, 130, 13, 1)\n",
        "\n",
        "    # perform prediction\n",
        "    prediction = model.predict(X)\n",
        "\n",
        "    # get index with max value\n",
        "    predicted_index = np.argmax(prediction, axis=1)\n",
        "\n",
        "    print(\"Target: {}, Predicted label: {}\".format(y, predicted_index))\n",
        "    #tf.math.confusion_matrix(y, predicted_index)\n",
        "\n",
        "\n",
        "if __name__ == \"__main__\":\n",
        "\n",
        "    # get train, validation, test splits\n",
        "    X_train, X_validation, X_test, y_train, y_validation, y_test = prepare_datasets(0.30, 0.10)\n",
        "\n",
        "    # create network\n",
        "    input_shape = (X_train.shape[1], X_train.shape[2], 1)\n",
        "    model = build_model(input_shape)\n",
        "\n",
        "    # compile model\n",
        "    #optimiser = keras.optimizers.Adam(learning_rate=0.0001)\n",
        "    model.compile(optimizer='adam',loss='binary_crossentropy',metrics=['accuracy'])\n",
        "\n",
        "    model.summary()\n",
        "\n",
        "    # train model\n",
        "    history = model.fit(X_train, y_train, validation_data=(X_validation, y_validation), batch_size=256, epochs=150)\n",
        "\n",
        "    # save modal\n",
        "    model.save(\"my_model2\")\n",
        "    # Serialize model to JSON:\n",
        "    model_json = model.to_json()\n",
        "    with open(\"drone1.json\", \"w\") as json_file:\n",
        "      json_file.write(model_json)\n",
        "\n",
        "    # Serialize weights to HDF5 (h5py needed):\n",
        "    model.save_weights(\"drone1_model.h5\")\n",
        "    print(\"Model saved to disk.\")\n",
        "\n",
        "    # plot accuracy/error for training and validation\n",
        "    plot_loss(history)\n",
        "    plot_accuracy(history)\n",
        "\n",
        "    # evaluate model on test set\n",
        "    test_loss, test_acc = model.evaluate(X_test, y_test, verbose=2)\n",
        "    print('\\nTest accuracy:', test_acc)\n",
        "\n",
        "    # pick a sample to predict from the test set\n",
        "    X_to_predict =X_test[100]\n",
        "\n",
        "    y_to_predict = y_test[100]\n",
        "\n",
        "    # predict sample\n",
        "    predict(model, X_to_predict, y_to_predict)\n"
      ]
    },
    {
      "cell_type": "code",
      "source": [
        "from google.colab import drive\n",
        "drive.mount('/content/drive')"
      ],
      "metadata": {
        "id": "yUyYcwmLmvRq"
      },
      "execution_count": null,
      "outputs": []
    },
    {
      "cell_type": "code",
      "source": [
        "y_pred=model.predict(X_test)\n",
        "con_mat = tf.math.confusion_matrix(labels=y_test, predictions=y_pred)\n",
        "print(con_mat)"
      ],
      "metadata": {
        "colab": {
          "base_uri": "https://localhost:8080/"
        },
        "id": "x7DYipu3rWGK",
        "outputId": "22574bf9-439f-4637-94a4-05fe4e4bc36f"
      },
      "execution_count": null,
      "outputs": [
        {
          "output_type": "stream",
          "name": "stdout",
          "text": [
            "tf.Tensor(\n",
            "[[38663    12]\n",
            " [19475 88452]], shape=(2, 2), dtype=int32)\n"
          ]
        }
      ]
    },
    {
      "cell_type": "code",
      "execution_count": null,
      "metadata": {
        "colab": {
          "base_uri": "https://localhost:8080/",
          "height": 758
        },
        "id": "rDkP0mPMpnBV",
        "outputId": "a0bc2cc2-a245-4fe1-d347-6346ae27b0d9"
      },
      "outputs": [
        {
          "output_type": "display_data",
          "data": {
            "image/png": "[encoded data removed]",
            "text/plain": [
              "<Figure size 576x576 with 2 Axes>"
            ]
          },
          "metadata": {}
        },
        {
          "output_type": "stream",
          "name": "stdout",
          "text": [
            "              precision    recall  f1-score   support\n",
            "\n",
            "           0       0.67      1.00      0.80     38675\n",
            "           1       1.00      0.82      0.90    107927\n",
            "\n",
            "    accuracy                           0.87    146602\n",
            "   macro avg       0.83      0.91      0.85    146602\n",
            "weighted avg       0.91      0.87      0.87    146602\n",
            "\n"
          ]
        }
      ],
      "source": [
        "y_pred=model.predict(X_test)\n",
        "con_mat = tf.math.confusion_matrix(labels=y_test, predictions=y_pred).numpy()\n",
        "\n",
        "con_mat_norm = np.around(con_mat.astype('float') / con_mat.sum(axis=1)[:, np.newaxis], decimals=2)\n",
        "figure = plt.figure(figsize=(8, 8))\n",
        "sns.heatmap(con_mat_norm, annot=True,cmap=plt.cm.Blues)\n",
        "plt.tight_layout()\n",
        "plt.ylabel('True label')\n",
        "plt.xlabel('Predicted label')\n",
        "plt.show()\n",
        "from sklearn.metrics import classification_report\n",
        "print(classification_report(y_test, y_pred.astype(int)))"
      ]
    },
    {
      "cell_type": "code",
      "source": [
        "y_pred=model.predict(X_test)\n",
        "con_mat = tf.math.confusion_matrix(labels=y_test, predictions=y_pred).numpy()\n",
        "\n",
        "con_mat_norm = np.around(con_mat.astype('float') / con_mat.sum(axis=1)[:, np.newaxis], decimals=2)\n",
        "figure = plt.figure(figsize=(8, 8))\n",
        "sns.heatmap(con_mat, annot=True,cmap=plt.cm.Blues)\n",
        "plt.tight_layout()\n",
        "plt.ylabel('True label')\n",
        "plt.xlabel('Predicted label')\n",
        "plt.show()\n",
        "\n",
        "from sklearn.metrics import classification_report\n",
        "\n",
        "print(classification_report(y_test, y_pred.astype(int)))"
      ],
      "metadata": {
        "id": "-OJV0iNwlBIg",
        "colab": {
          "base_uri": "https://localhost:8080/",
          "height": 758
        },
        "outputId": "ac4b871a-74c1-45ff-8a3c-dbe528c29ffe"
      },
      "execution_count": null,
      "outputs": [
        {
          "output_type": "display_data",
          "data": {
            "image/png": "[encoded data removed]",
            "text/plain": [
              "<Figure size 576x576 with 2 Axes>"
            ]
          },
          "metadata": {
            "needs_background": "light"
          }
        },
        {
          "output_type": "stream",
          "name": "stdout",
          "text": [
            "              precision    recall  f1-score   support\n",
            "\n",
            "           0       0.71      1.00      0.83     38614\n",
            "           1       1.00      0.85      0.92    107988\n",
            "\n",
            "    accuracy                           0.89    146602\n",
            "   macro avg       0.85      0.93      0.87    146602\n",
            "weighted avg       0.92      0.89      0.90    146602\n",
            "\n"
          ]
        }
      ]
    },
    {
      "cell_type": "markdown",
      "source": [
        "Load the model"
      ],
      "metadata": {
        "id": "-cQYycQVCFdb"
      }
    },
    {
      "cell_type": "code",
      "source": [
        "# Load json and create model:\n",
        "from tensorflow.keras.models import model_from_json\n",
        "\n",
        "json_file = open('/content/drive/MyDrive/drone1.json', 'r')\n",
        "loaded_model_json = json_file.read()\n",
        "json_file.close()\n",
        "loaded_model = model_from_json(loaded_model_json)\n",
        "\n",
        "# Load weights into loaded model:\n",
        "loaded_model.load_weights(\"/content/drive/MyDrive/drone1_model.h5\")\n",
        "print(\"Model loaded from disk.\")"
      ],
      "metadata": {
        "id": "trXxzbzjB-nt",
        "colab": {
          "base_uri": "https://localhost:8080/"
        },
        "outputId": "a53b54f3-f779-46f7-e253-6318e7f8e0fc"
      },
      "execution_count": null,
      "outputs": [
        {
          "output_type": "stream",
          "name": "stdout",
          "text": [
            "Model loaded from disk.\n"
          ]
        }
      ]
    },
    {
      "cell_type": "code",
      "source": [
        "# Evaluate loaded model on test data:\n",
        "loaded_model.compile(optimizer='adam',loss='binary_crossentropy',metrics=['accuracy'])\n",
        "\n",
        "score = loaded_model.evaluate(X_test, y_test, verbose=1)\n",
        "print(f'Test accuracy: {score[1]}')"
      ],
      "metadata": {
        "id": "s_fd6AB_CLBZ",
        "colab": {
          "base_uri": "https://localhost:8080/"
        },
        "outputId": "dd345055-d114-4a19-8b6e-27d0018793ad"
      },
      "execution_count": null,
      "outputs": [
        {
          "output_type": "stream",
          "name": "stdout",
          "text": [
            "4582/4582 [==============================] - 13s 3ms/step - loss: 0.0213 - accuracy: 0.9937\n",
            "Test accuracy: 0.9937313199043274\n"
          ]
        }
      ]
    },
    {
      "cell_type": "code",
      "source": [
        "import pandas as pd\n",
        "import numpy as np\n",
        "DATA_PATH = \"/content/drive/MyDrive/Drone Test File.csv\"\n",
        "\n",
        "data = pd.read_csv(DATA_PATH)\n",
        "\n",
        "Xnew=np.array(data.iloc[:,:-1]).astype('float32')\n",
        "Xnew = Xnew[..., np.newaxis]\n",
        "\n",
        "ynew=np.array(data.iloc[:,-1])"
      ],
      "metadata": {
        "id": "Cj-g9T5fm-OY"
      },
      "execution_count": null,
      "outputs": []
    },
    {
      "cell_type": "code",
      "source": [
        "# For model prediction, this is the accurate way\n",
        "#ynew_predicted = model.predict(Xnew)\n",
        "#y_predicted_1=[]\n",
        "#import math\n",
        "#for k in range(0,len(ynew_predicted)):\n",
        "#  a=float(ynew_predicted[k])\n",
        "#  a=math.floor(a * 10 ** 2) / 10 ** 2\n",
        "#  y_predicted_1.append(a)\n",
        "#y_predicted_1=np.array(y_predicted_1)"
      ],
      "metadata": {
        "id": "Fr-_dJSkZwCP"
      },
      "execution_count": null,
      "outputs": []
    },
    {
      "cell_type": "code",
      "source": [
        "ynew_predicted = model.predict(Xnew)"
      ],
      "metadata": {
        "id": "urmBRzHUN0ky"
      },
      "execution_count": null,
      "outputs": []
    },
    {
      "cell_type": "code",
      "source": [
        "con_mat = tf.math.confusion_matrix(labels=ynew, predictions=ynew_predicted)\n",
        "print(con_mat)"
      ],
      "metadata": {
        "colab": {
          "base_uri": "https://localhost:8080/"
        },
        "id": "S9lSYgRIODLI",
        "outputId": "8575a08a-66fa-47b5-8e3f-5ac84dfee014"
      },
      "execution_count": null,
      "outputs": [
        {
          "output_type": "stream",
          "name": "stdout",
          "text": [
            "tf.Tensor(\n",
            "[[496   4]\n",
            " [214 288]], shape=(2, 2), dtype=int32)\n"
          ]
        }
      ]
    },
    {
      "cell_type": "code",
      "source": [
        "from sklearn.metrics import classification_report\n",
        "print(classification_report(ynew, ynew_predicted.astype(int)))"
      ],
      "metadata": {
        "colab": {
          "base_uri": "https://localhost:8080/"
        },
        "id": "dXX_eOEYgT3G",
        "outputId": "0d3f6437-dca8-430f-96af-9b87a4b82ee7"
      },
      "execution_count": null,
      "outputs": [
        {
          "output_type": "stream",
          "name": "stdout",
          "text": [
            "              precision    recall  f1-score   support\n",
            "\n",
            "           0       0.70      0.99      0.82       500\n",
            "           1       0.99      0.57      0.73       502\n",
            "\n",
            "    accuracy                           0.78      1002\n",
            "   macro avg       0.84      0.78      0.77      1002\n",
            "weighted avg       0.84      0.78      0.77      1002\n",
            "\n"
          ]
        }
      ]
    },
    {
      "cell_type": "code",
      "source": [],
      "metadata": {
        "id": "W5GnAmiV4tq_"
      },
      "execution_count": null,
      "outputs": []
    }
  ],
  "metadata": {
    "accelerator": "TPU",
    "colab": {
      "provenance": []
    },
    "kernelspec": {
      "display_name": "Python 3",
      "name": "python3"
    },
    "language_info": {
      "name": "python"
    }
  },
  "nbformat": 4,
  "nbformat_minor": 0
}