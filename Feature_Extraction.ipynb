{
  "nbformat": 4,
  "nbformat_minor": 0,
  "metadata": {
    "colab": {
      "provenance": []
    },
    "kernelspec": {
      "name": "python3",
      "display_name": "Python 3"
    },
    "language_info": {
      "name": "python"
    }
  },
  "cells": [
    {
      "cell_type": "code",
      "metadata": {
        "id": "KqGWpq3TtW29"
      },
      "source": [
        "# for static features\n",
        "Matrice_1='/content/drive/MyDrive/calmenvironment-test_KFrthnPM.wav'\n",
        "#ipd.Audio(Matrice_1)\n",
        "x , sr = librosa.load(Matrice_1, sr=32000)\n",
        "x= librosa.feature.mfcc(x,n_mfcc=26)\n",
        "x=x.transpose()\n",
        "a=x.shape\n",
        "a\n",
        "#mel=[]\n",
        "mel=[[],[],[],[],[],[],[],[],[],[],[],[],[],[],[],[],[],[],[],[],[],[],[],[],[],[]] # The number of empty lists is equal number of extracted mfcc\n",
        "for i in range(0,a[1]):\n",
        "    for j in range(0,a[0]):\n",
        "        mel[i].append(x[j][i])\n",
        "df = pd.DataFrame({'MEL 1':mel[0],'MEL 2':mel[1],'MEL 3':mel[2],'MEL 4':mel[3],'MEL 5':mel[4],'MEL 6':mel[5],'MEL 7':mel[6],\n",
        "                   'MEL 8':mel[7],'MEL 9':mel[8],'MEL 10':mel[9],'MEL 11':mel[10],'MEL 12':mel[11],'Energy':mel[12],\n",
        "                   'Delta 1':mel[13],'Delta 2':mel[14],'Delta 3':mel[15],'Delta 4':mel[16],'Delta 5':mel[17],'Delta 6':mel[18],\n",
        "                  'Delta 7':mel[19],'Delta 8':mel[20],'Delta 9':mel[21],'Delta 10':mel[22],'Delta 11':mel[23],\n",
        "                   'Delta 12':mel[24],'Delta 13':mel[25]})\n",
        "#print(df)\n",
        "df.to_csv('Calm environment.csv',index=False)\n"
      ],
      "execution_count": null,
      "outputs": []
    },
    {
      "cell_type": "code",
      "metadata": {
        "id": "65EF-DEAhcZH",
        "colab": {
          "base_uri": "https://localhost:8080/"
        },
        "outputId": "a82ade65-b270-4760-eeb2-d4d522fb4fc0"
      },
      "source": [
        "!ls -1"
      ],
      "execution_count": null,
      "outputs": [
        {
          "output_type": "stream",
          "name": "stdout",
          "text": [
            "'aero 18 folks.csv'\n",
            "'aero 18 girls.csv'\n",
            "drive\n",
            "'kid chatter_2.csv'\n",
            "'kid chatter_3.csv'\n",
            "'kid chatter.csv'\n",
            "kid_girls.csv\n",
            "'maam hareem and maam fatima_2.csv'\n",
            "'maam hareem and maam fatima.csv'\n",
            "noise.csv\n",
            "output.csv\n",
            "people_2.csv\n",
            "people.csv\n",
            "sample_data\n",
            "'sir gohar and sir hamdani.csv'\n",
            "WAFA_2.csv\n",
            "WAFA.csv\n",
            "yasheerah.csv\n"
          ]
        }
      ]
    },
    {
      "cell_type": "code",
      "metadata": {
        "colab": {
          "base_uri": "https://localhost:8080/"
        },
        "id": "l52bMYyeLez9",
        "outputId": "5d6d4881-dadf-4953-b394-270f25876153"
      },
      "source": [
        "! zip recorded.zip *.csv"
      ],
      "execution_count": null,
      "outputs": [
        {
          "output_type": "stream",
          "name": "stdout",
          "text": [
            "  adding: aero 18 folks.csv (deflated 54%)\n",
            "  adding: aero 18 girls.csv (deflated 54%)\n",
            "  adding: kid chatter_2.csv (deflated 54%)\n",
            "  adding: kid chatter_3.csv (deflated 54%)\n",
            "  adding: kid chatter.csv (deflated 54%)\n",
            "  adding: kid_girls.csv (deflated 54%)\n",
            "  adding: maam hareem and maam fatima_2.csv (deflated 54%)\n",
            "  adding: maam hareem and maam fatima.csv (deflated 54%)\n",
            "  adding: noise.csv (deflated 54%)\n",
            "  adding: output.csv (deflated 54%)\n",
            "  adding: people_2.csv (deflated 54%)\n",
            "  adding: people.csv (deflated 54%)\n",
            "  adding: sir gohar and sir hamdani.csv (deflated 54%)\n",
            "  adding: WAFA_2.csv (deflated 54%)\n",
            "  adding: WAFA.csv (deflated 54%)\n",
            "  adding: yasheerah.csv (deflated 54%)\n"
          ]
        }
      ]
    },
    {
      "cell_type": "code",
      "source": [
        "import librosa\n",
        "import librosa.display\n",
        "import IPython.display as ipd\n",
        "import numpy as np\n",
        "import pandas as pd\n",
        "%matplotlib inline\n",
        "import matplotlib.pyplot as plt"
      ],
      "metadata": {
        "id": "V-_m2YJaO_rC"
      },
      "execution_count": null,
      "outputs": []
    },
    {
      "cell_type": "code",
      "source": [
        "# for static and dynamic features\n",
        "Matrice_1='/content/drive/MyDrive/recorded voices of people/yasheerah.wav'\n",
        "#ipd.Audio(Matrice_1)\n",
        "x , sr = librosa.load(Matrice_1, sr=32000)\n",
        "mfccs= librosa.feature.mfcc(x,n_mfcc=13,sr=sr)\n",
        "delta_mfccs = librosa.feature.delta(mfccs)\n",
        "mfccs_features = np.concatenate((mfccs, delta_mfccs))\n",
        "x=mfccs_features.transpose()\n",
        "a=x.shape\n",
        "#mel=[]\n",
        "mel=[[],[],[],[],[],[],[],[],[],[],[],[],[],[],[],[],[],[],[],[],[],[],[],[],[],[]] # The number of empty lists is equal number of extracted mfcc\n",
        "for i in range(0,a[1]): # number of mfccs\n",
        "    for j in range(0,a[0]): # number of rows\n",
        "        mel[i].append(x[j][i])\n",
        "df = pd.DataFrame({'MEL 1':mel[0],'MEL 2':mel[1],'MEL 3':mel[2],'MEL 4':mel[3],'MEL 5':mel[4],'MEL 6':mel[5],'MEL 7':mel[6],\n",
        "                   'MEL 8':mel[7],'MEL 9':mel[8],'MEL 10':mel[9],'MEL 11':mel[10],'MEL 12':mel[11],'Energy':mel[12],\n",
        "                   'Delta 1':mel[13],'Delta 2':mel[14],'Delta 3':mel[15],'Delta 4':mel[16],'Delta 5':mel[17],'Delta 6':mel[18],\n",
        "                  'Delta 7':mel[19],'Delta 8':mel[20],'Delta 9':mel[21],'Delta 10':mel[22],'Delta 11':mel[23],\n",
        "                   'Delta 12':mel[24],'Delta 13':mel[25]})\n",
        "#df=(df-df.min())/(df.max()-df.min())\n",
        "#print(df)\n",
        "df.to_csv('yasheerah.csv',index=False)"
      ],
      "metadata": {
        "id": "xK5PvZkfPAfY"
      },
      "execution_count": null,
      "outputs": []
    },
    {
      "cell_type": "code",
      "source": [
        "print(a)"
      ],
      "metadata": {
        "colab": {
          "base_uri": "https://localhost:8080/"
        },
        "id": "jy25jwUJQcrP",
        "outputId": "6cb986e5-8f15-451a-9498-b8e645e1f1b2"
      },
      "execution_count": null,
      "outputs": [
        {
          "output_type": "stream",
          "name": "stdout",
          "text": [
            "(6438, 26)\n"
          ]
        }
      ]
    },
    {
      "cell_type": "code",
      "source": [],
      "metadata": {
        "id": "BjAOYG0rXe3F"
      },
      "execution_count": null,
      "outputs": []
    }
  ]
}